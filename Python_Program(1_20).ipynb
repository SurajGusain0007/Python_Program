{
  "nbformat": 4,
  "nbformat_minor": 0,
  "metadata": {
    "colab": {
      "name": "Python Program(1-20).ipynb",
      "provenance": [],
      "authorship_tag": "ABX9TyNlFGfv3v4xqaP/io/EveBv",
      "include_colab_link": true
    },
    "kernelspec": {
      "name": "python3",
      "display_name": "Python 3"
    },
    "language_info": {
      "name": "python"
    }
  },
  "cells": [
    {
      "cell_type": "markdown",
      "metadata": {
        "id": "view-in-github",
        "colab_type": "text"
      },
      "source": [
        "<a href=\"https://colab.research.google.com/github/SurajGusain0007/Python_Program/blob/main/Python_Program(1_20).ipynb\" target=\"_parent\"><img src=\"https://colab.research.google.com/assets/colab-badge.svg\" alt=\"Open In Colab\"/></a>"
      ]
    },
    {
      "cell_type": "code",
      "execution_count": 2,
      "metadata": {
        "colab": {
          "base_uri": "https://localhost:8080/"
        },
        "id": "BHdS1tB5KxgI",
        "outputId": "97fc0a09-fe5e-485e-c912-10083eb357c0"
      },
      "outputs": [
        {
          "output_type": "stream",
          "name": "stdout",
          "text": [
            "Enter first number13\n",
            "enter second number45\n",
            "Sum of two number is  58\n"
          ]
        }
      ],
      "source": [
        "\n",
        "#Ques 1.write a program add two numbers.\n",
        "a=int(input(\"Enter first number\"))\n",
        "b=int(input(\"enter second number\"))\n",
        "c=a+b\n",
        "print(\"Sum of two number is \",c)"
      ]
    },
    {
      "cell_type": "code",
      "source": [
        "#Ques 2.Write a program of factorial number using for loop\n",
        "c=1\n",
        "n=int(input(\"enter number\"))\n",
        "for i in range(1,n):\n",
        "  c=c*i\n",
        "print(\"Facotial of a number is \",c)"
      ],
      "metadata": {
        "colab": {
          "base_uri": "https://localhost:8080/"
        },
        "id": "mDYqX-KDLk5g",
        "outputId": "be378f4e-1459-4969-88ee-97f55e24455e"
      },
      "execution_count": 6,
      "outputs": [
        {
          "output_type": "stream",
          "name": "stdout",
          "text": [
            "enter number6\n",
            "Facotial of a number is  120\n"
          ]
        }
      ]
    },
    {
      "cell_type": "code",
      "source": [
        "#Ques 3.Write a program of factorail number using while loop\n",
        "c=1\n",
        "a=1\n",
        "n=int(input(\"Enter the number\"))\n",
        "while(a<=n):\n",
        "  c=c*a\n",
        "  a=a+1\n",
        "print(\"Factorial of a number is \",c)  \n"
      ],
      "metadata": {
        "colab": {
          "base_uri": "https://localhost:8080/"
        },
        "id": "GipPuE3eNlfx",
        "outputId": "26f9f202-5101-4536-c42a-6f5c02d22c91"
      },
      "execution_count": 7,
      "outputs": [
        {
          "output_type": "stream",
          "name": "stdout",
          "text": [
            "Enter the number5\n",
            "Factorial of a number is  120\n"
          ]
        }
      ]
    },
    {
      "cell_type": "code",
      "source": [
        "#Ques 4.Factorial of a number using function \n",
        "def factorial(n):\n",
        "  c=1\n",
        "  for i in range(1,n):\n",
        "   c=c*i\n",
        "  return(c)\n",
        "\n",
        "n=int(input(\"enter the number\"))\n",
        "factorial(n)\n"
      ],
      "metadata": {
        "colab": {
          "base_uri": "https://localhost:8080/"
        },
        "id": "C3RQuAG4Oo3d",
        "outputId": "64dcc219-21f7-4de9-8f32-7a2ced6e50d0"
      },
      "execution_count": 9,
      "outputs": [
        {
          "name": "stdout",
          "output_type": "stream",
          "text": [
            "enter the number6\n"
          ]
        },
        {
          "output_type": "execute_result",
          "data": {
            "text/plain": [
              "120"
            ]
          },
          "metadata": {},
          "execution_count": 9
        }
      ]
    },
    {
      "cell_type": "code",
      "source": [
        "#Ques 5.Factorial of a number using function\n",
        "def factorial(n):\n",
        "  c=1\n",
        "  a=1\n",
        "  if n==0 or n==1:\n",
        "    return 1\n",
        "  else:\n",
        "   while(a<=n):\n",
        "    c=c*a\n",
        "    a=a+1\n",
        "  return(c)\n",
        "\n",
        "n=int(input(\"enter the number\"))\n",
        "fact=factorial(n)\n",
        "print(\"the factorial of a number is\",fact)\n"
      ],
      "metadata": {
        "colab": {
          "base_uri": "https://localhost:8080/"
        },
        "id": "oyrU-I66Q13u",
        "outputId": "17dd456d-df17-4571-c32e-f6b158a899f0"
      },
      "execution_count": 15,
      "outputs": [
        {
          "output_type": "stream",
          "name": "stdout",
          "text": [
            "enter the number9\n",
            "the factorial of a number is 362880\n"
          ]
        }
      ]
    },
    {
      "cell_type": "code",
      "source": [
        "#Ques 6.Write a program to write a simple interest\n",
        "def simple_interest(p,r,t):\n",
        "  si=int(p*r*t/100)\n",
        "  return si\n",
        "\n",
        "p=int(input(\"enter the amount value\"))\n",
        "r=int(input(\"enter the rate value\"))\n",
        "t=int(input(\"enter the time value\"))\n",
        "sim_int=simple_interest(p,r,t)\n",
        "print(\"The output of simple interest is\",sim_int)\n",
        "\n",
        "\n"
      ],
      "metadata": {
        "colab": {
          "base_uri": "https://localhost:8080/"
        },
        "id": "3wAcMhYLSTU0",
        "outputId": "e87e9cff-ce24-4964-8ede-92e393e0abc1"
      },
      "execution_count": 19,
      "outputs": [
        {
          "output_type": "stream",
          "name": "stdout",
          "text": [
            "enter the amount value3000\n",
            "enter the rate value7\n",
            "enter the time value1\n",
            "The output of simple interest is 210\n"
          ]
        }
      ]
    },
    {
      "cell_type": "code",
      "source": [
        "#Ques 7.write a program of fibonacci series\n",
        "def fib(n):\n",
        "  if n<=1:\n",
        "    return n\n",
        "  else:\n",
        "    c=fib(n-1)+fib(n-2)\n",
        "    return c\n",
        "  \n",
        "\n",
        "n=int(input(\"enter the number\"))\n",
        "if n<=0:\n",
        "  print(\"print valid number\")\n",
        "else:\n",
        "  print(\"Fibonaci sequence\")\n",
        "  for i in range(n):\n",
        "   print(fib(i))\n",
        "\n",
        "\n"
      ],
      "metadata": {
        "colab": {
          "base_uri": "https://localhost:8080/"
        },
        "id": "beYMZW69UZAS",
        "outputId": "20b2c26e-10be-4ca7-9c81-acf5a5e5cd1e"
      },
      "execution_count": 29,
      "outputs": [
        {
          "output_type": "stream",
          "name": "stdout",
          "text": [
            "enter the number5\n",
            "Fibonaci sequence\n",
            "0\n",
            "1\n",
            "1\n",
            "2\n",
            "3\n"
          ]
        }
      ]
    },
    {
      "cell_type": "code",
      "source": [
        "#Qus 7.write a fibonaci series using for loop\n",
        "n3=int(input(\"enter the numbers\"))\n",
        "n=0\n",
        "n1=1\n",
        "count=0\n",
        "\n",
        "#check if number is valid\n",
        "if n3<=0:\n",
        "  print(\"please enter valid number\")\n",
        "elif n3==1:\n",
        "  print(\"print fibonaci sequence\",n3)\n",
        "  print(n)\n",
        "else:\n",
        "  while(count<n3):\n",
        "    print(n)\n",
        "    nth=n+n1\n",
        "    n=n1\n",
        "    n1=nth\n",
        "    count=count+1\n",
        "\n"
      ],
      "metadata": {
        "colab": {
          "base_uri": "https://localhost:8080/"
        },
        "id": "cn6gHsXIaW5D",
        "outputId": "34422e43-e62e-4265-f63a-f0900a02d182"
      },
      "execution_count": 32,
      "outputs": [
        {
          "output_type": "stream",
          "name": "stdout",
          "text": [
            "enter the numbers5\n",
            "0\n",
            "1\n",
            "1\n",
            "2\n",
            "3\n"
          ]
        }
      ]
    },
    {
      "cell_type": "code",
      "source": [
        "#Ques 8.Write a program to write a compound interest\n",
        "def compound_interest(p,r,t):\n",
        "  ci=(p*(1+r/100)**t)\n",
        "  return ci\n",
        "\n",
        "p=float(input(\"enter the amount value\"))\n",
        "r=float(input(\"enter the rate value\"))\n",
        "t=float(input(\"enter the time value\"))\n",
        "com_int=compound_interest(p,r,t)\n",
        "print(\"The output of simple interest is\",com_int)"
      ],
      "metadata": {
        "colab": {
          "base_uri": "https://localhost:8080/"
        },
        "id": "zatHn0-mcyiI",
        "outputId": "01b9ff24-92d6-4076-8b4d-eb3139402ae7"
      },
      "execution_count": 35,
      "outputs": [
        {
          "output_type": "stream",
          "name": "stdout",
          "text": [
            "enter the amount value1200\n",
            "enter the rate value5.4\n",
            "enter the time value2\n",
            "The output of simple interest is 1333.0992\n"
          ]
        }
      ]
    },
    {
      "cell_type": "code",
      "source": [
        "#Ques 9.write a program to count the digit of a number\n",
        "n=int(input(\"enter the number\"))\n",
        "a=0\n",
        "if n<=0:\n",
        "  print(\"please enter the valid number\")\n",
        "else:\n",
        "  while(n>0):\n",
        "    n=n//10\n",
        "    a=a+1\n",
        "\n",
        "print(\"the count the number of a digit\",a)"
      ],
      "metadata": {
        "colab": {
          "base_uri": "https://localhost:8080/"
        },
        "id": "gyYBdR1SeLvG",
        "outputId": "edb9edec-d18e-45f1-a0cc-a00e4a30a9e0"
      },
      "execution_count": 42,
      "outputs": [
        {
          "output_type": "stream",
          "name": "stdout",
          "text": [
            "enter the number456783894\n",
            "the count the number of a digit 9\n"
          ]
        }
      ]
    },
    {
      "cell_type": "code",
      "source": [
        "#Ques 10.write a program sum of digits \n",
        "n=int(input(\"enter the number\"))\n",
        "a=0\n",
        "if n<=0:\n",
        " print(\"enter valid number\")\n",
        "else:\n",
        "  while(n>0):\n",
        "    r=n%10\n",
        "    n=n//10\n",
        "    a=a+r\n",
        "print(\"the sum of a digit is\",a)"
      ],
      "metadata": {
        "colab": {
          "base_uri": "https://localhost:8080/"
        },
        "id": "MpTFEW8qgeN9",
        "outputId": "daa88447-5198-45f7-ddc0-6237a7aa29b2"
      },
      "execution_count": 46,
      "outputs": [
        {
          "output_type": "stream",
          "name": "stdout",
          "text": [
            "enter the number1234\n",
            "the sum of a digit is 10\n"
          ]
        }
      ]
    },
    {
      "cell_type": "code",
      "source": [
        "#Ques 11. Write a program of a armstrong number.\n",
        "n=int(input(\"enter the number\"))\n",
        "a=0\n",
        "p=n\n",
        "s=0\n",
        "q=n\n",
        "while(n>0):\n",
        "    n=n//10\n",
        "    a=a+1\n",
        "\n",
        "while(p>0):\n",
        "  r=p%10\n",
        "  s=s+(r**a)\n",
        "  p=p//10\n",
        "\n",
        "if s==q:\n",
        "  print(\"the number is amstrong\")\n",
        "else:\n",
        "  print(\"the number is not amstrong\")\n",
        "\n",
        " \n",
        "\n"
      ],
      "metadata": {
        "colab": {
          "base_uri": "https://localhost:8080/"
        },
        "id": "vO3TuXaglMtZ",
        "outputId": "af1d1099-2c5f-4dde-f0fc-5d366694adfd"
      },
      "execution_count": 49,
      "outputs": [
        {
          "output_type": "stream",
          "name": "stdout",
          "text": [
            "enter the number123\n",
            "the number is not amstrong\n"
          ]
        }
      ]
    },
    {
      "cell_type": "code",
      "source": [
        "#ques 12.Check whether a program is palindrom or not\n",
        "n=int(input(\"enter the number\"))\n",
        "temp=n\n",
        "reverse=0\n",
        "while(temp>0):\n",
        "  r=temp%10\n",
        "  reverse=(reverse*10)+r\n",
        "  temp=temp//10\n",
        "\n",
        "if n==reverse:\n",
        "  print(\"number is palindrome\")\n",
        "else:\n",
        " print(\"the number is not palindrome\")\n"
      ],
      "metadata": {
        "colab": {
          "base_uri": "https://localhost:8080/"
        },
        "id": "1kY9BIKyocz6",
        "outputId": "6c491547-352b-4c6f-9958-feacb36b8043"
      },
      "execution_count": 52,
      "outputs": [
        {
          "output_type": "stream",
          "name": "stdout",
          "text": [
            "enter the number132\n",
            "the number is not palindrome\n"
          ]
        }
      ]
    },
    {
      "cell_type": "code",
      "source": [
        "#Ques 13.write a program to check a number is prime or not\n",
        "def prime(n):\n",
        "  flag=False\n",
        "  if n>1:\n",
        "   for i in range(2,n):\n",
        "     if(n%i)==0:\n",
        "       #if factor is found set flag=true\n",
        "       flag=True\n",
        "       break\n",
        "  if flag:\n",
        "   return(print(\"Not a prime number\"))\n",
        "  else:\n",
        "    return(print(\"Prime number\"))\n",
        "\n",
        "n=int(input(\"enter number\"))\n",
        "prime(n)\n",
        "\n"
      ],
      "metadata": {
        "colab": {
          "base_uri": "https://localhost:8080/"
        },
        "id": "o2yhw-lwqunL",
        "outputId": "9f5ced47-aed6-4727-a5af-ec3d58f84722"
      },
      "execution_count": 55,
      "outputs": [
        {
          "output_type": "stream",
          "name": "stdout",
          "text": [
            "enter number5\n",
            "Prime number\n"
          ]
        }
      ]
    },
    {
      "cell_type": "code",
      "source": [
        "#ques 14.Write a program to reverse a integer\n",
        "n=int(input(\"enter the number\"))\n",
        "reverse=0\n",
        "while(n>0):\n",
        " r=n%10\n",
        " reverse=(reverse*10)+r\n",
        " n=n//10\n",
        "\n",
        "print(\"the reverse of a number is \",reverse)\n"
      ],
      "metadata": {
        "colab": {
          "base_uri": "https://localhost:8080/"
        },
        "id": "fFKp6PLTxqT5",
        "outputId": "2ba47d77-cdf0-4b9a-cbb6-3c85e65fb000"
      },
      "execution_count": 57,
      "outputs": [
        {
          "output_type": "stream",
          "name": "stdout",
          "text": [
            "enter the number123456\n",
            "the reverse of a number is  654321\n"
          ]
        }
      ]
    },
    {
      "cell_type": "code",
      "source": [
        "#Ques 15.Write a program swap two numbers  using third variable\n",
        "a=int(input(\"enter first number\"))\n",
        "b=int(input(\"enter second number\"))\n",
        "temp=a\n",
        "a=b\n",
        "b=temp\n",
        "print(\"the a number is\",a)\n",
        "print(\"the b number is\",b)\n"
      ],
      "metadata": {
        "colab": {
          "base_uri": "https://localhost:8080/"
        },
        "id": "1KU2m6uezRpS",
        "outputId": "629decec-9ca4-477f-f242-8f57af9640d8"
      },
      "execution_count": 59,
      "outputs": [
        {
          "output_type": "stream",
          "name": "stdout",
          "text": [
            "enter first number10\n",
            "enter second number20\n",
            "the a number is 20\n",
            "the b number is 10\n"
          ]
        }
      ]
    },
    {
      "cell_type": "code",
      "source": [
        "#Ques 16.write a program swap two number without usimg third variable\n",
        "a=int(input(\"enter first number\"))\n",
        "b=int(input(\"enter second number\"))\n",
        "a=a-b\n",
        "b=a+b\n",
        "a=b-a\n",
        "print(\"the a number is\",a)\n",
        "print(\"the b number is\",b)"
      ],
      "metadata": {
        "colab": {
          "base_uri": "https://localhost:8080/"
        },
        "id": "zCxkuB-b1EO8",
        "outputId": "92ece077-5449-4e6a-bb9a-97eb6cc36f90"
      },
      "execution_count": 62,
      "outputs": [
        {
          "output_type": "stream",
          "name": "stdout",
          "text": [
            "enter first number10\n",
            "enter second number20\n",
            "the a number is 20\n",
            "the b number is 10\n"
          ]
        }
      ]
    },
    {
      "cell_type": "code",
      "source": [
        "#Ques17. check whether a number is perfect or not\n",
        "n=int(input(\"enter the number\"))\n",
        "s=0\n",
        "if n<0:\n",
        "  print(\"enter valid number\")\n",
        "for i in range(1,n):\n",
        "  if n%i==0:\n",
        "    s=s+i\n",
        "if n==s:\n",
        " print(\"the number is perfect square\")\n",
        "else:\n",
        "  print(\"the number is not perfect square\")\n"
      ],
      "metadata": {
        "colab": {
          "base_uri": "https://localhost:8080/"
        },
        "id": "TR0h_Uz-3yPJ",
        "outputId": "1d8cde3d-c5d7-4779-e03b-3439653a4e26"
      },
      "execution_count": 67,
      "outputs": [
        {
          "output_type": "stream",
          "name": "stdout",
          "text": [
            "enter the number6\n",
            "the number is perfect square\n"
          ]
        }
      ]
    },
    {
      "cell_type": "code",
      "source": [
        "#Ques 18.write a program to find greatest among three integers\n",
        "a=int(input(\"enter first number\"))\n",
        "b=int(input(\"enter second number\"))\n",
        "c=int(input(\"enter third number\"))\n",
        "if a>b and a>c:\n",
        "  print(\" a is a greater number\")\n",
        "elif b>a and b>c:\n",
        "  print(\" b is a greater number\")\n",
        "elif a==b==c:\n",
        "  print(\"all three number is equal\")\n",
        "else:\n",
        "  print(\"c is greater number\")"
      ],
      "metadata": {
        "colab": {
          "base_uri": "https://localhost:8080/"
        },
        "id": "RCgiDDrx5wWr",
        "outputId": "7b4a8750-0f93-4850-f021-6cb1059a70dc"
      },
      "execution_count": 70,
      "outputs": [
        {
          "output_type": "stream",
          "name": "stdout",
          "text": [
            "enter first number30\n",
            "enter second number10\n",
            "enter third number15\n",
            " a is a greater number\n"
          ]
        }
      ]
    },
    {
      "cell_type": "code",
      "source": [
        "#Ques 19.write a program to find average of numbers\n",
        "n=int(input(\"enter number\"))\n",
        "arr=[]\n",
        "s=0\n",
        "for i in range(0,n):\n",
        "  ele=int(input(\"enter number\"))\n",
        "  arr.append(ele)\n",
        "avg=sum(arr)/n\n",
        "print(\"the average of number is\",avg)\n"
      ],
      "metadata": {
        "colab": {
          "base_uri": "https://localhost:8080/"
        },
        "id": "e_vUgxK57DRD",
        "outputId": "e8ffdf34-a666-4120-cf4d-f5b54ad13e5b"
      },
      "execution_count": 73,
      "outputs": [
        {
          "output_type": "stream",
          "name": "stdout",
          "text": [
            "enter number5\n",
            "enter number9\n",
            "enter number5\n",
            "enter number7\n",
            "enter number88\n",
            "enter number87\n",
            "the average of number is 39.2\n"
          ]
        }
      ]
    },
    {
      "cell_type": "code",
      "source": [
        "#Ques 20.Write a program to check whether a number is odd or even\n",
        "n=int(input(\"enter the number\"))\n",
        "if n%2==0:\n",
        "  print(\"the number is even\")\n",
        "else:\n",
        "  print(\"the number is odd\")"
      ],
      "metadata": {
        "colab": {
          "base_uri": "https://localhost:8080/"
        },
        "id": "5hSStYUj9EdH",
        "outputId": "a851a3c2-9254-48ee-9716-c53f7ec552be"
      },
      "execution_count": 77,
      "outputs": [
        {
          "output_type": "stream",
          "name": "stdout",
          "text": [
            "enter the number15\n",
            "the number is odd\n"
          ]
        }
      ]
    }
  ]
}